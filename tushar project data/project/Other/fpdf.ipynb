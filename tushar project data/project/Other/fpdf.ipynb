{
 "cells": [
  {
   "cell_type": "code",
   "execution_count": 1,
   "metadata": {},
   "outputs": [
    {
     "name": "stdout",
     "output_type": "stream",
     "text": [
      "Collecting fpdf\n",
      "  Downloading fpdf-1.7.2.tar.gz (39 kB)\n",
      "  Preparing metadata (setup.py): started\n",
      "  Preparing metadata (setup.py): finished with status 'done'\n",
      "Building wheels for collected packages: fpdf\n",
      "  Building wheel for fpdf (setup.py): started\n",
      "  Building wheel for fpdf (setup.py): finished with status 'done'\n",
      "  Created wheel for fpdf: filename=fpdf-1.7.2-py2.py3-none-any.whl size=40713 sha256=0582cd62098b717be7a146fa70e31a3b5933ae848b782324f32b042d5e3b1cda\n",
      "  Stored in directory: c:\\users\\yadav\\appdata\\local\\pip\\cache\\wheels\\e7\\3f\\19\\97faa9b38eab58ba402cb09bf5a7adb689fffa71612c4b042f\n",
      "Successfully built fpdf\n",
      "Installing collected packages: fpdf\n",
      "Successfully installed fpdf-1.7.2\n",
      "Note: you may need to restart the kernel to use updated packages.\n"
     ]
    }
   ],
   "source": [
    "pip install fpdf"
   ]
  },
  {
   "cell_type": "code",
   "execution_count": 105,
   "metadata": {},
   "outputs": [
    {
     "name": "stdout",
     "output_type": "stream",
     "text": [
      " * Serving Flask app '__main__'\n",
      " * Debug mode: on\n"
     ]
    },
    {
     "name": "stderr",
     "output_type": "stream",
     "text": [
      "WARNING: This is a development server. Do not use it in a production deployment. Use a production WSGI server instead.\n",
      " * Running on http://127.0.0.1:5000\n",
      "Press CTRL+C to quit\n",
      " * Restarting with stat\n"
     ]
    },
    {
     "ename": "SystemExit",
     "evalue": "1",
     "output_type": "error",
     "traceback": [
      "An exception has occurred, use %tb to see the full traceback.\n",
      "\u001b[1;31mSystemExit\u001b[0m\u001b[1;31m:\u001b[0m 1\n"
     ]
    },
    {
     "name": "stderr",
     "output_type": "stream",
     "text": [
      "C:\\Users\\yadav\\AppData\\Roaming\\Python\\Python38\\site-packages\\IPython\\core\\interactiveshell.py:3441: UserWarning: To exit: use 'exit', 'quit', or Ctrl-D.\n",
      "  warn(\"To exit: use 'exit', 'quit', or Ctrl-D.\", stacklevel=1)\n"
     ]
    }
   ],
   "source": [
    "from flask import Flask, jsonify, request\n",
    "\n",
    "app = Flask(__name__)\n",
    "\n",
    "@app.route(\"/getdata\", methods = [\"GET\", \"POST\"])\n",
    "def get_data():\n",
    "    \n",
    "    result = {}\n",
    "    \n",
    "    print(request.json)\n",
    "    data = request.json\n",
    "\n",
    "    result[\"Revenues\"] = (data[\"Common Expension\"][\" HOA Common Expenses Dues \"] * data[\"Common Expension\"][\"Number of Units\"]) * 12\n",
    "    \n",
    "    result[\"Minus_Delinquent\"] = result[\"Revenues\"] * .02\n",
    "    result[\"Gross_Profit\"] = result[\"Revenues\"] - result[\"Minus_Delinquent\"] \n",
    "    print(\"\\nRevenues:- {}, \\nMinus_Delinquent:- {}, \\nGross_Profit:- {}\".format(result[\"Revenues\"], result[\"Minus_Delinquent\"], result[\"Gross_Profit\"]))\n",
    "\n",
    "    result[\"Common_Expenses_subtotal\"] = sum(data[\"Common Expenses (Year)\"].values())\n",
    "    \n",
    "    print(\"\\nCommon_Expenses_subtotal:- {}\".format(result[\"Common_Expenses_subtotal\"]))\n",
    "\n",
    "    result[\"Common_Expenses_NET_Profit_Loss\"] = result[\"Gross_Profit\"] - result[\"Common_Expenses_subtotal\"]\n",
    "    print(\"Common_Expenses_NET_Profit_Loss:- {}\".format(result[\"Common_Expenses_NET_Profit_Loss\"]))\n",
    "\n",
    "    result[\"Reserve_Account_Expenses\"] = sum(data['REPLACEMENT RESERVES (Replacement between 13 months and 30 years time, as well as exterior painting)'].values())\n",
    "    \n",
    "    result[\"Income_from_Reserve_Dues\"] = (data['Replacement Reserves']['HOA Replacement Reserve Dues']* data[\"Common Expension\"][\"Number of Units\"]) * 12\n",
    "    print(f'\\nReserve_Account_Expenses:- {result[\"Reserve_Account_Expenses\"]}, \\nIncome_from_Reserve_Dues:- {result[\"Income_from_Reserve_Dues\"]}')\n",
    "\n",
    "    result[\"Reserves\"] = 14560 - result[\"Income_from_Reserve_Dues\"] - result[\"Reserve_Account_Expenses\"]\n",
    "    print(\"\\nReserves:- {}\".format(result[\"Reserves\"]))\n",
    "\n",
    "    result[\"MY_Total_MONTHLY_Dues\"] = sum(data[\"Total Dues\"].values())\n",
    "    print(f'\\nMY_Total_MONTHLY_Dues:- {result[\"MY_Total_MONTHLY_Dues\"]}')\n",
    "\n",
    "    return result \n",
    "\n",
    "if __name__ == '__main__':\n",
    "    app.run(debug = True)\n",
    "\n",
    "\n",
    "\n",
    "\n",
    "# {\n",
    "#     \"Common Expension\":\n",
    "#         {\n",
    "#             \" HOA Common Expenses Dues \":174,\n",
    "#             \"Number of Units\": 8\n",
    "#         }\n",
    "#     ,\n",
    "#     \"Common Expenses (Year)\": \n",
    "#         {\n",
    "#             \"Bank fees\": 45,\n",
    "#             \"Contractor Repairs\": 1920,\n",
    "#             \"In-house Maintenance\": 500\n",
    "#         },\n",
    "#     \"Replacement Reserves\": {\n",
    "#         \"HOA Replacement Reserve Dues\": 30\n",
    "#     },\n",
    "#     \"REPLACEMENT RESERVES (Replacement between 13 months and 30 years time, as well as exterior painting)\":{\n",
    "#         \"Paint the Metal Fence & Gates\": 1750,\n",
    "#         \"Update 3 south facing doors\": 1200,\n",
    "#         \"roof\": 0\n",
    "#     },\n",
    "#     \"Total Dues\":{\n",
    "#         \"HOA Common Expenses Dues\": 174,\n",
    "#         \"HOA Replacement Reserve Dues\": 30\n",
    "#     }\n",
    "# }"
   ]
  },
  {
   "cell_type": "code",
   "execution_count": 30,
   "metadata": {},
   "outputs": [
    {
     "name": "stdout",
     "output_type": "stream",
     "text": [
      "22 74\n",
      "22 74\n"
     ]
    },
    {
     "data": {
      "text/plain": [
       "''"
      ]
     },
     "execution_count": 30,
     "metadata": {},
     "output_type": "execute_result"
    }
   ],
   "source": [
    "from fpdf import FPDF\n",
    "\n",
    "m = 22   #Margin\n",
    "pw = 210 - 2*m    #page width: width of A4 is 210mm\n",
    "ch = 10   #cell height\n",
    "\n",
    "pdf = FPDF()\n",
    "pdf.l_margin = m\n",
    "pdf.r_margin = m\n",
    "pdf.add_page()\n",
    "pdf.set_font(\"Arial\", \"B\", 18)\n",
    "\n",
    "def table_data(data, heading, d):\n",
    "    pdf.set_font(\"Arial\", \"B\", 12)\n",
    "    pdf.set_text_color(255,255,255)\n",
    "    pdf.set_fill_color(0, 51, 102)\n",
    "    pdf.set_top_margin(10)\n",
    "    pdf.cell(w = 0, h= 10, txt = heading, ln = 1, fill = True)\n",
    "\n",
    "    epw = pdf.w - 2*pdf.l_margin\n",
    "    col_width = epw/d\n",
    "    th = pdf.font_size\n",
    "    pdf.set_font(\"Arial\",\"\", 10)\n",
    "    pdf.set_text_color(0,0,0)\n",
    "\n",
    "    for row in data:\n",
    "        for data_1 in row:\n",
    "            pdf.cell( col_width, 10, str(data_1))\n",
    "        pdf.ln(8)\n",
    "    return \"Done\"\n",
    "\n",
    "\n",
    "pdf.image(\"Image.png\", x = 160, w = 30, h = 26)\n",
    "\n",
    "pdf.set_text_color(216,109,2)\n",
    "pdf.cell(w = 0,h =10, txt=\"EXECUTIVE SUMMARY\", ln=1)\n",
    "pdf.ln(8)\n",
    "\n",
    "# PROPERTY SUMMARY\n",
    "data = (\n",
    "    (\"ASSOCIATION NAME\", \"Sample Condominium Association\"),\n",
    "    (\"LOCATION\", \"Seattle, WA98104\"),\n",
    "    (\"YEAR CONSTRUCTED\", 2015),\n",
    "    (\"NUMBER OF UNITS\", 100),\n",
    "    (\"FINANCIAL YEAR\", \"2017(Januart 1, 2017 - December 31, 2017\"),\n",
    "    (\"REPORT LEVEL\", \"Level 1 Full Study with site Visit\")\n",
    ")\n",
    "table_data(data, \"PROPERTY SUMMARY\", 3)\n",
    "pdf.ln(8)\n",
    "\n",
    "# Reserve Fund\n",
    "data = (\n",
    "    (\"PROJECTED STARTING BALANCE\", \"$103.613\"),\n",
    "    (\"FULL FUNDED BALANCE, IDEAL\", \"$163.017\"),\n",
    "    (\"PERCENT FUNDED\", \"64%\"),\n",
    "    (\"INTEREST EARNED\", \"1.00%\"),\n",
    "    (\"INFLATION RATE\", \"3.00%\"),\n",
    ")\n",
    "table_data(data, \"RESERVE FUND\", 2)\n",
    "pdf.ln(8)\n",
    "\n",
    "# RESERVE CONTRIBUTIONS\n",
    "data = (\n",
    "    (\"CURRENT RESERVE FUND CONTRIBUTION\", \"$87.753\"),\n",
    "    (\"FULL FUNDED MAXIMUM CONTRIBUTION\", \"$198.866\"),\n",
    "    (\"BASELINE FUNDING, MINIMUM CONTRIBUTION\", \"$100.617\"),\n",
    "    (\"SPECIAL ASSESSMENT\", \"$0\"),\n",
    ")\n",
    "table_data(data, \"RESERVE CONTRIBUTIONS\", 2)\n",
    "pdf.ln(8)\n",
    "\n",
    "# 2ND Page of PDF\n",
    "pdf.add_page()\n",
    "pdf.set_font(\"Arial\", \"B\", 18)\n",
    "\n",
    "pdf.image(\"Image.png\", x = 160, w = 30, h = 26)\n",
    "\n",
    "pdf.set_text_color(216,109,2)\n",
    "pdf.cell(w = 0,h =10, txt=\"KEY INSIGHTS\", ln=1)\n",
    "pdf.ln(8)\n",
    "\n",
    "pdf.set_text_color(0,25,51)\n",
    "pdf.set_font(\"Arial\", \"B\", 25)\n",
    "pdf.cell(w = pw/3, h=10, txt=\"$103,613\", ln=0, align= 'C')\n",
    "pdf.cell(w = pw/3, h=10, txt=\"$87,753\", ln=0, align=\"C\")\n",
    "pdf.cell(w = pw/3, h=10, txt=\"$5,102,536\", ln=1, align=\"C\")\n",
    "\n",
    "pdf.set_text_color(216,109,2)\n",
    "pdf.set_font(\"Arial\", \"B\", 10)\n",
    "\n",
    "pdf.multi_cell(w = pw/3, h = 10, txt= \"Reserve Account Balance\",align= \"C\")\n",
    "pdf.line(pdf.get_y(), 84,pdf.get_y(), 54)\n",
    "print(pdf.get_x(), pdf.get_y())\n",
    "pdf.set_xy(pdf.get_x()+pw/3, pdf.get_y()-10)\n",
    "pdf.multi_cell(w = pw/3, h = 10, txt= \"Annual Reserve Contribution\", align=\"C\")\n",
    "print(pdf.get_x(), pdf.get_y())\n",
    "pdf.line(pdf.get_y()+ pw/3 + 4, 84,pdf.get_y()+pw/3 + 4, 54)\n",
    "pdf.set_xy(pdf.get_x()+(2*pw/3), pdf.get_y()-10)\n",
    "pdf.multi_cell(w = pw/3, h = 10, txt= \"Projected Exprenses over 30 years\",align= \"C\")\n",
    "pdf.ln(8)\n",
    "\n",
    "pdf.image(\"plot.png\", x = 10, w = 150, h = 80)\n",
    "\n",
    "\n",
    "pdf.line(20, 190,20, 200)     # to create verticle line\n",
    "pdf.line(120, 200,20, 200)\n",
    "pdf.line(120, 190,120, 200)\n",
    "#pdf.line(x1, y1, x2, y2)\n",
    "\n",
    "# draw a dashed line\n",
    "# pdf.dashed_line(10, 30, 110, 30, 1, 10)     \n",
    "\n",
    "pdf.output(\"example.pdf\", \"F\")"
   ]
  },
  {
   "cell_type": "code",
   "execution_count": 5,
   "metadata": {},
   "outputs": [
    {
     "data": {
      "text/plain": [
       "{'w': 12, 't': 23, \"k'\": 12}"
      ]
     },
     "execution_count": 5,
     "metadata": {},
     "output_type": "execute_result"
    }
   ],
   "source": [
    "d = {\"w\":12, \"t\":23}\n",
    "\n",
    "d2 = {\"k'\":12}\n",
    "\n",
    "d.update(d2)\n",
    "d"
   ]
  },
  {
   "cell_type": "code",
   "execution_count": 18,
   "metadata": {},
   "outputs": [
    {
     "data": {
      "image/png": "[encoded data removed]",
      "text/plain": [
       "<Figure size 640x480 with 1 Axes>"
      ]
     },
     "metadata": {},
     "output_type": "display_data"
    }
   ],
   "source": [
    "import pandas as pd\n",
    "import matplotlib.pyplot as plt\n",
    "\n",
    "dfItem = pd.read_csv(\"data.csv\")\n",
    "\n",
    "# plt.figure(figsize=(50,50))\n",
    "plt.fill_between(dfItem[\"Year\"], dfItem[\"temp_graph2\"])\n",
    "plt.fill_between(dfItem[\"Year\"], dfItem[\"temp_graph1\"])\n",
    "plt.savefig('plot.png',bbox_inches='tight')\n",
    "plt.show()"
   ]
  },
  {
   "cell_type": "code",
   "execution_count": 31,
   "metadata": {},
   "outputs": [],
   "source": [
    "df = pd.read_excel(\"30 yr Anytown Reserve Study (1).xlsx\", header = [5])"
   ]
  },
  {
   "cell_type": "code",
   "execution_count": 40,
   "metadata": {},
   "outputs": [
    {
     "data": {
      "text/plain": [
       "0         NaN\n",
       "1         NaN\n",
       "2       174.0\n",
       "3         8.0\n",
       "4     16704.0\n",
       "       ...   \n",
       "57        NaN\n",
       "58        NaN\n",
       "59      174.0\n",
       "60       30.0\n",
       "61      204.0\n",
       "Name: 2018, Length: 62, dtype: float64"
      ]
     },
     "execution_count": 40,
     "metadata": {},
     "output_type": "execute_result"
    }
   ],
   "source": [
    "df.iloc[:,2]"
   ]
  },
  {
   "cell_type": "code",
   "execution_count": 21,
   "metadata": {},
   "outputs": [
    {
     "data": {
      "image/png": "[encoded data removed]",
      "text/plain": [
       "<Figure size 750x350 with 1 Axes>"
      ]
     },
     "metadata": {},
     "output_type": "display_data"
    }
   ],
   "source": [
    "import matplotlib.pyplot as plt\n",
    "\n",
    "plt.rcParams[\"figure.figsize\"] = [7.50, 3.50]\n",
    "plt.rcParams[\"figure.autolayout\"] = True\n",
    "\n",
    "y = [0, 2, 1, 5, 1, 2, 0]\n",
    "\n",
    "plt.plot(y, color='red', lw=7)\n",
    "\n",
    "for pos in ['right', 'top', 'bottom', 'left']:\n",
    "   plt.gca().spines[pos].set_visible(False)\n",
    "\n",
    "plt.savefig('plot1.png',bbox_inches='tight')\n",
    "plt.show()"
   ]
  },
  {
   "cell_type": "code",
   "execution_count": null,
   "metadata": {},
   "outputs": [],
   "source": []
  }
 ],
 "metadata": {
  "kernelspec": {
   "display_name": "Python 3",
   "language": "python",
   "name": "python3"
  },
  "language_info": {
   "codemirror_mode": {
    "name": "ipython",
    "version": 3
   },
   "file_extension": ".py",
   "mimetype": "text/x-python",
   "name": "python",
   "nbconvert_exporter": "python",
   "pygments_lexer": "ipython3",
   "version": "3.8.0 (tags/v3.8.0:fa919fd, Oct 14 2019, 19:37:50) [MSC v.1916 64 bit (AMD64)]"
  },
  "orig_nbformat": 4,
  "vscode": {
   "interpreter": {
    "hash": "1d9afa1a224157019e6da309456ced10c65d6e9a36e17cc5a699a322c0cbe1f2"
   }
  }
 },
 "nbformat": 4,
 "nbformat_minor": 2
}
