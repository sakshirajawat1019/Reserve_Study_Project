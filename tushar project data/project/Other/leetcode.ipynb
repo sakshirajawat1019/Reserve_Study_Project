{
 "cells": [
  {
   "cell_type": "code",
   "execution_count": 1,
   "metadata": {},
   "outputs": [],
   "source": [
    "class Solution:\n",
    "    def findDisappearedNumbers(self, nums):\n",
    "\n",
    "        l = []\n",
    "        for i in range(1, len(nums)+1):\n",
    "            if i not in nums:\n",
    "                l.append(i)\n",
    "            else:\n",
    "                pass"
   ]
  },
  {
   "cell_type": "code",
   "execution_count": 6,
   "metadata": {},
   "outputs": [],
   "source": [
    "class Solution:\n",
    "    def containsNearbyDuplicate(self, nums, k):\n",
    "        \n",
    "        for i in range(len(nums)):\n",
    "            for j in range(len(nums)):\n",
    "\n",
    "                if nums[i] == nums[j] and abs(i - j) <= k and j != i:\n",
    "                    print(abs(i - j))\n",
    "                    return True\n",
    "                else:\n",
    "                    return False"
   ]
  },
  {
   "cell_type": "code",
   "execution_count": 7,
   "metadata": {},
   "outputs": [
    {
     "data": {
      "text/plain": [
       "False"
      ]
     },
     "execution_count": 7,
     "metadata": {},
     "output_type": "execute_result"
    }
   ],
   "source": [
    "a = Solution()\n",
    "\n",
    "a.containsNearbyDuplicate([1,2,3,1,2,3], 2)"
   ]
  },
  {
   "cell_type": "code",
   "execution_count": 2,
   "metadata": {},
   "outputs": [
    {
     "data": {
      "text/plain": [
       "False"
      ]
     },
     "execution_count": 2,
     "metadata": {},
     "output_type": "execute_result"
    }
   ],
   "source": [
    "d = {1:2}\n",
    "\n",
    "2 in d"
   ]
  },
  {
   "cell_type": "code",
   "execution_count": 3,
   "metadata": {},
   "outputs": [
    {
     "data": {
      "text/plain": [
       "False"
      ]
     },
     "execution_count": 3,
     "metadata": {},
     "output_type": "execute_result"
    }
   ],
   "source": [
    "l = [[1,2,], [3,5]]\n",
    "\n",
    "5 in l"
   ]
  },
  {
   "cell_type": "code",
   "execution_count": 4,
   "metadata": {},
   "outputs": [],
   "source": [
    "class Solution:\n",
    "    def summaryRanges(self, nums):\n",
    "        ranges = []\n",
    "        for n in nums:\n",
    "            if not ranges or n > ranges[-1][-1] + 1:\n",
    "                ranges += []\n",
    "                print(\"yes\")\n",
    "            ranges[-1][1:] = n,\n",
    "        return ['->'.join(map(str, r)) for r in ranges]"
   ]
  },
  {
   "cell_type": "code",
   "execution_count": 6,
   "metadata": {},
   "outputs": [
    {
     "name": "stdout",
     "output_type": "stream",
     "text": [
      "yes\n"
     ]
    },
    {
     "ename": "IndexError",
     "evalue": "list index out of range",
     "output_type": "error",
     "traceback": [
      "\u001b[1;31m---------------------------------------------------------------------------\u001b[0m",
      "\u001b[1;31mIndexError\u001b[0m                                Traceback (most recent call last)",
      "Cell \u001b[1;32mIn [6], line 3\u001b[0m\n\u001b[0;32m      1\u001b[0m a \u001b[39m=\u001b[39m Solution()\n\u001b[1;32m----> 3\u001b[0m a\u001b[39m.\u001b[39;49msummaryRanges([\u001b[39m0\u001b[39;49m,\u001b[39m1\u001b[39;49m,\u001b[39m2\u001b[39;49m,\u001b[39m4\u001b[39;49m,\u001b[39m5\u001b[39;49m,\u001b[39m7\u001b[39;49m])\n",
      "Cell \u001b[1;32mIn [4], line 8\u001b[0m, in \u001b[0;36mSolution.summaryRanges\u001b[1;34m(self, nums)\u001b[0m\n\u001b[0;32m      6\u001b[0m         ranges \u001b[39m+\u001b[39m\u001b[39m=\u001b[39m []\n\u001b[0;32m      7\u001b[0m         \u001b[39mprint\u001b[39m(\u001b[39m\"\u001b[39m\u001b[39myes\u001b[39m\u001b[39m\"\u001b[39m)\n\u001b[1;32m----> 8\u001b[0m     ranges[\u001b[39m-\u001b[39;49m\u001b[39m1\u001b[39;49m][\u001b[39m1\u001b[39m:] \u001b[39m=\u001b[39m n,\n\u001b[0;32m      9\u001b[0m \u001b[39mreturn\u001b[39;00m [\u001b[39m'\u001b[39m\u001b[39m->\u001b[39m\u001b[39m'\u001b[39m\u001b[39m.\u001b[39mjoin(\u001b[39mmap\u001b[39m(\u001b[39mstr\u001b[39m, r)) \u001b[39mfor\u001b[39;00m r \u001b[39min\u001b[39;00m ranges]\n",
      "\u001b[1;31mIndexError\u001b[0m: list index out of range"
     ]
    }
   ],
   "source": [
    "a = Solution()\n",
    "\n",
    "a.summaryRanges([0,1,2,4,5,7])"
   ]
  },
  {
   "cell_type": "code",
   "execution_count": 1,
   "metadata": {},
   "outputs": [],
   "source": [
    "a = {'year': '2019', 'common_expenses Dues': '873', 'number_units': '655', 'bank_fees': '67', 'contractor_repairs': '57', '0': 'key1'\n",
    ", '100': '67', '3': 'key4', '103': '42', '2': 'key3', '102': '35', '1': 'key2', '101': '45'}"
   ]
  },
  {
   "cell_type": "code",
   "execution_count": 2,
   "metadata": {},
   "outputs": [
    {
     "name": "stdout",
     "output_type": "stream",
     "text": [
      "##hello###\n"
     ]
    }
   ],
   "source": [
    "txt = 'hello'\n",
    "print(txt.center(10, '#'))"
   ]
  },
  {
   "cell_type": "code",
   "execution_count": 3,
   "metadata": {},
   "outputs": [
    {
     "ename": "TypeError",
     "evalue": "unhashable type: 'slice'",
     "output_type": "error",
     "traceback": [
      "\u001b[1;31m---------------------------------------------------------------------------\u001b[0m",
      "\u001b[1;31mTypeError\u001b[0m                                 Traceback (most recent call last)",
      "Cell \u001b[1;32mIn [3], line 1\u001b[0m\n\u001b[1;32m----> 1\u001b[0m a[:\u001b[39m9\u001b[39;49m]\n",
      "\u001b[1;31mTypeError\u001b[0m: unhashable type: 'slice'"
     ]
    }
   ],
   "source": [
    "a"
   ]
  },
  {
   "cell_type": "code",
   "execution_count": null,
   "metadata": {},
   "outputs": [],
   "source": [
    "all_data = []\n",
    "    for i in range(len(request.json)):\n",
    "\n",
    "        result = {}\n",
    "        print(request.json)\n",
    "        data = request.json[i]\n",
    "\n",
    "        result[\"Revenues\"] = (data[\"Common Expension\"][\" HOA Common Expenses Dues \"] * data[\"Common Expension\"][\"Number of Units\"]) * 12\n",
    "        result[\"Minus_Delinquent\"] = result[\"Revenues\"] * .02\n",
    "        result[\"Gross_Profit\"] = result[\"Revenues\"] - result[\"Minus_Delinquent\"] \n",
    "        print(\"\\nRevenues:- {}, \\nMinus_Delinquent:- {}, \\nGross_Profit:- {}\".format(result[\"Revenues\"], result[\"Minus_Delinquent\"], result[\"Gross_Profit\"]))\n",
    "\n",
    "        result[\"Common_Expenses_subtotal\"] = sum(data[\"Common Expenses (Year)\"].values())\n",
    "        print(\"\\nCommon_Expenses_subtotal:- {}\".format(result[\"Common_Expenses_subtotal\"]))\n",
    "\n",
    "        result[\"Common_Expenses_NET_Profit_Loss\"] = result[\"Gross_Profit\"] - result[\"Common_Expenses_subtotal\"]\n",
    "        print(\"Common_Expenses_NET_Profit_Loss:- {}\".format(result[\"Common_Expenses_NET_Profit_Loss\"]))\n",
    "\n",
    "        result[\"Reserve_Account_Expenses\"] = sum(data['REPLACEMENT RESERVES (Replacement between 13 months and 30 years time, as well as exterior painting)'].values())\n",
    "        result[\"Income_from_Reserve_Dues\"] = (data['Replacement Reserves']['HOA Replacement Reserve Dues']* data[\"Common Expension\"][\"Number of Units\"]) * 12\n",
    "        print(f'\\nReserve_Account_Expenses:- {result[\"Reserve_Account_Expenses\"]}, \\nIncome_from_Reserve_Dues:- {result[\"Income_from_Reserve_Dues\"]}')\n",
    "\n",
    "        result[\"Reserves\"] = 14560 - result[\"Income_from_Reserve_Dues\"] - result[\"Reserve_Account_Expenses\"]\n",
    "        print(\"\\nReserves:- {}\".format(result[\"Reserves\"]))\n",
    "\n",
    "        result[\"MY_Total_MONTHLY_Dues\"] = sum(data[\"Total Dues\"].values())\n",
    "        print(f'\\nMY_Total_MONTHLY_Dues:- {result[\"MY_Total_MONTHLY_Dues\"]}')\n"
   ]
  },
  {
   "cell_type": "code",
   "execution_count": 25,
   "metadata": {},
   "outputs": [],
   "source": [
    "l = "
   ]
  },
  {
   "cell_type": "code",
   "execution_count": 26,
   "metadata": {},
   "outputs": [
    {
     "name": "stdout",
     "output_type": "stream",
     "text": [
      "[] []\n"
     ]
    }
   ],
   "source": [
    "keys = [i for i in l if \"key\" in i]\n",
    "values = [i for i in l if \"value\" in i]\n",
    "\n",
    "print(keys, values)"
   ]
  },
  {
   "cell_type": "code",
   "execution_count": 27,
   "metadata": {},
   "outputs": [],
   "source": [
    "data = dict([('year', '2019'), ('common_expenses Dues', '174'), ('number_units', '8'), ('key0', 'Bank Fees'), ('value0', '45'), ('key12', 'mail cloud services'), ('value12', '300'), ('key11', 'legal and professional fees'), ('value11', '200'), ('key10', 'consultant fees'), ('value10', '680'), ('key9', 'accounting software'), ('value9', '374'), ('key8', 'stats/city'), ('value8', '50'), ('key7', 'licenses and permits - other'), ('value7', '60'), ('key6', 'insurance - property'), ('value6', '1640'), ('key5', 'insurance - Board annual bond'), ('value5', '188'), ('key4', 'Landscaping, Monthly'), ('value4', '3220'), ('key3', 'Landscaping, Major'), ('value3', '900'), ('key2', 'In-House Maintenance'), ('value2', '500'), ('key1', 'Contractor Repairs'), ('value1', '1920'), ('replacement_reserve_dues', '30'), ('paint_metal', '0'), ('exterior_paint', '0'), ('key500', 'paint the metal fence'), ('value500', '1750'), ('key503', 'unplanned '), ('value503', '2000'), ('key502', 'update 3 south'), ('value502', '1200'), ('key501', 'wood fence'), ('value501', '1000')])"
   ]
  },
  {
   "cell_type": "code",
   "execution_count": 28,
   "metadata": {},
   "outputs": [
    {
     "data": {
      "text/plain": [
       "{'year': '2019',\n",
       " 'common_expenses Dues': '174',\n",
       " 'number_units': '8',\n",
       " 'key0': 'Bank Fees',\n",
       " 'value0': '45',\n",
       " 'key12': 'mail cloud services',\n",
       " 'value12': '300',\n",
       " 'key11': 'legal and professional fees',\n",
       " 'value11': '200',\n",
       " 'key10': 'consultant fees',\n",
       " 'value10': '680',\n",
       " 'key9': 'accounting software',\n",
       " 'value9': '374',\n",
       " 'key8': 'stats/city',\n",
       " 'value8': '50',\n",
       " 'key7': 'licenses and permits - other',\n",
       " 'value7': '60',\n",
       " 'key6': 'insurance - property',\n",
       " 'value6': '1640',\n",
       " 'key5': 'insurance - Board annual bond',\n",
       " 'value5': '188',\n",
       " 'key4': 'Landscaping, Monthly',\n",
       " 'value4': '3220',\n",
       " 'key3': 'Landscaping, Major',\n",
       " 'value3': '900',\n",
       " 'key2': 'In-House Maintenance',\n",
       " 'value2': '500',\n",
       " 'key1': 'Contractor Repairs',\n",
       " 'value1': '1920',\n",
       " 'replacement_reserve_dues': '30',\n",
       " 'paint_metal': '0',\n",
       " 'exterior_paint': '0',\n",
       " 'key500': 'paint the metal fence',\n",
       " 'value500': '1750',\n",
       " 'key503': 'unplanned ',\n",
       " 'value503': '2000',\n",
       " 'key502': 'update 3 south',\n",
       " 'value502': '1200',\n",
       " 'key501': 'wood fence',\n",
       " 'value501': '1000'}"
      ]
     },
     "execution_count": 28,
     "metadata": {},
     "output_type": "execute_result"
    }
   ],
   "source": [
    "data"
   ]
  },
  {
   "cell_type": "code",
   "execution_count": 29,
   "metadata": {},
   "outputs": [
    {
     "data": {
      "text/plain": [
       "{'Revenues': 16704,\n",
       " 'Minus_Delinquent': 334.08,\n",
       " 'Gross_Profit': 16369.92,\n",
       " 'Common_Expenses_subtotal': 10077,\n",
       " 'Common_Expenses_NET_Profit_Loss': 6292.92,\n",
       " 'Reserve_Account_Expenses': 5950,\n",
       " 'Income_from_Reserve_Dues': 2880,\n",
       " 'Reserves': 5730,\n",
       " 'MY_Total_MONTHLY_Dues': 204}"
      ]
     },
     "execution_count": 29,
     "metadata": {},
     "output_type": "execute_result"
    }
   ],
   "source": [
    "common_ex = {}\n",
    "replacement_re = {}\n",
    "\n",
    "for i in data.keys():\n",
    "    if \"key\" in i :\n",
    "        # print(i.split(\"key\")[1])\n",
    "        if int(i.split(\"key\")[1]) <= 100:\n",
    "            common_ex[data[i]] = data[\"value\"+i.split(\"key\")[1]]\n",
    "        elif int(i.split(\"key\")[1]) >= 500:\n",
    "            replacement_re[data[i]] = data[\"value\"+i.split(\"key\")[1]]\n",
    "\n",
    "result = {}\n",
    "#calculation for common expenses\n",
    "result[\"Revenues\"] = int(data['common_expenses Dues']) * int(data['number_units']) * 12\n",
    "result[\"Minus_Delinquent\"] = result[\"Revenues\"] * .02\n",
    "result[\"Gross_Profit\"] = result[\"Revenues\"] - result[\"Minus_Delinquent\"]\n",
    "\n",
    "result[\"Common_Expenses_subtotal\"] = sum(map(int,common_ex.values()))\n",
    "result[\"Common_Expenses_NET_Profit_Loss\"] = result[\"Gross_Profit\"] - result[\"Common_Expenses_subtotal\"]\n",
    "\n",
    "#calculation for replacement reserves\n",
    "result[\"Reserve_Account_Expenses\"] = sum(map(int, replacement_re.values()))\n",
    "result[\"Income_from_Reserve_Dues\"] = (int(data['replacement_reserve_dues']) * int(data[\"number_units\"])) * 12\n",
    "result[\"Reserves\"] = 14560 - result[\"Income_from_Reserve_Dues\"] - result[\"Reserve_Account_Expenses\"]\n",
    "\n",
    "#total dues\n",
    "result[\"MY_Total_MONTHLY_Dues\"] = sum(list((int(data[\"common_expenses Dues\"]), int(data[\"replacement_reserve_dues\"]))))\n",
    "\n",
    "result"
   ]
  },
  {
   "cell_type": "code",
   "execution_count": 61,
   "metadata": {},
   "outputs": [
    {
     "data": {
      "text/plain": [
       "[('Bank Fees', '45'),\n",
       " ('mail cloud services', '300'),\n",
       " ('legal and professional fees', '200'),\n",
       " ('consultant fees', '680'),\n",
       " ('accounting software', '374'),\n",
       " ('stats/city', '50'),\n",
       " ('licenses and permits - other', '60'),\n",
       " ('insurance - property', '1640'),\n",
       " ('insurance - Board annual bond', '188'),\n",
       " ('Landscaping, Monthly', '3220'),\n",
       " ('Landscaping, Major', '900'),\n",
       " ('In-House Maintenance', '500'),\n",
       " ('Contractor Repairs', '1920')]"
      ]
     },
     "execution_count": 61,
     "metadata": {},
     "output_type": "execute_result"
    }
   ],
   "source": [
    "list(common_ex.items())"
   ]
  },
  {
   "cell_type": "code",
   "execution_count": 31,
   "metadata": {},
   "outputs": [
    {
     "data": {
      "text/plain": [
       "{'paint the metal fence': '1750',\n",
       " 'unplanned ': '2000',\n",
       " 'update 3 south': '1200',\n",
       " 'wood fence': '1000'}"
      ]
     },
     "execution_count": 31,
     "metadata": {},
     "output_type": "execute_result"
    }
   ],
   "source": [
    "replacement_re"
   ]
  },
  {
   "cell_type": "code",
   "execution_count": 42,
   "metadata": {},
   "outputs": [],
   "source": [
    "import pandas as pd"
   ]
  },
  {
   "cell_type": "code",
   "execution_count": 44,
   "metadata": {},
   "outputs": [
    {
     "data": {
      "text/plain": [
       "'174'"
      ]
     },
     "execution_count": 44,
     "metadata": {},
     "output_type": "execute_result"
    }
   ],
   "source": [
    "data[\"common_expenses Dues\"]"
   ]
  },
  {
   "cell_type": "code",
   "execution_count": 57,
   "metadata": {},
   "outputs": [
    {
     "data": {
      "text/html": [
       "<div>\n",
       "<style scoped>\n",
       "    .dataframe tbody tr th:only-of-type {\n",
       "        vertical-align: middle;\n",
       "    }\n",
       "\n",
       "    .dataframe tbody tr th {\n",
       "        vertical-align: top;\n",
       "    }\n",
       "\n",
       "    .dataframe thead th {\n",
       "        text-align: right;\n",
       "    }\n",
       "</style>\n",
       "<table border=\"1\" class=\"dataframe\">\n",
       "  <thead>\n",
       "    <tr style=\"text-align: right;\">\n",
       "      <th></th>\n",
       "      <th>HOA_Common_Expenses_Dues</th>\n",
       "      <th>Number_of_Units</th>\n",
       "      <th>Revenues</th>\n",
       "      <th>Minus_Delinquent_Payments(2%)</th>\n",
       "      <th>Gross_Profit</th>\n",
       "      <th>Year</th>\n",
       "    </tr>\n",
       "  </thead>\n",
       "  <tbody>\n",
       "    <tr>\n",
       "      <th>0</th>\n",
       "      <td>174</td>\n",
       "      <td>8</td>\n",
       "      <td>16704</td>\n",
       "      <td>334.08</td>\n",
       "      <td>16369.92</td>\n",
       "      <td>2019</td>\n",
       "    </tr>\n",
       "  </tbody>\n",
       "</table>\n",
       "</div>"
      ],
      "text/plain": [
       "  HOA_Common_Expenses_Dues Number_of_Units  Revenues  \\\n",
       "0                      174               8     16704   \n",
       "\n",
       "   Minus_Delinquent_Payments(2%)  Gross_Profit  Year  \n",
       "0                         334.08      16369.92  2019  "
      ]
     },
     "execution_count": 57,
     "metadata": {},
     "output_type": "execute_result"
    }
   ],
   "source": [
    "df = pd.DataFrame()\n",
    "\n",
    "df[\"HOA_Common_Expenses_Dues\"] = list((data[\"common_expenses Dues\"],))\n",
    "df[\"Number_of_Units\"] = list((data[\"number_units\"],))\n",
    "df[\"Revenues\"] = list((result[\"Revenues\"],))\n",
    "df[\"Minus_Delinquent_Payments(2%)\"] = list((result[\"Minus_Delinquent\"],))\n",
    "df[\"Gross_Profit\"] = list((result[\"Gross_Profit\"],))\n",
    "df[\"Year\"] = list((data[\"year\"],))\n",
    "df"
   ]
  },
  {
   "cell_type": "code",
   "execution_count": 40,
   "metadata": {},
   "outputs": [
    {
     "data": {
      "text/html": [
       "<div>\n",
       "<style scoped>\n",
       "    .dataframe tbody tr th:only-of-type {\n",
       "        vertical-align: middle;\n",
       "    }\n",
       "\n",
       "    .dataframe tbody tr th {\n",
       "        vertical-align: top;\n",
       "    }\n",
       "\n",
       "    .dataframe thead th {\n",
       "        text-align: right;\n",
       "    }\n",
       "</style>\n",
       "<table border=\"1\" class=\"dataframe\">\n",
       "  <thead>\n",
       "    <tr style=\"text-align: right;\">\n",
       "      <th></th>\n",
       "      <th>Expenses_Name</th>\n",
       "      <th>Price</th>\n",
       "      <th>Year</th>\n",
       "    </tr>\n",
       "  </thead>\n",
       "  <tbody>\n",
       "    <tr>\n",
       "      <th>0</th>\n",
       "      <td>Bank Fees</td>\n",
       "      <td>45</td>\n",
       "      <td>2019</td>\n",
       "    </tr>\n",
       "    <tr>\n",
       "      <th>1</th>\n",
       "      <td>mail cloud services</td>\n",
       "      <td>300</td>\n",
       "      <td>2019</td>\n",
       "    </tr>\n",
       "    <tr>\n",
       "      <th>2</th>\n",
       "      <td>legal and professional fees</td>\n",
       "      <td>200</td>\n",
       "      <td>2019</td>\n",
       "    </tr>\n",
       "    <tr>\n",
       "      <th>3</th>\n",
       "      <td>consultant fees</td>\n",
       "      <td>680</td>\n",
       "      <td>2019</td>\n",
       "    </tr>\n",
       "    <tr>\n",
       "      <th>4</th>\n",
       "      <td>accounting software</td>\n",
       "      <td>374</td>\n",
       "      <td>2019</td>\n",
       "    </tr>\n",
       "    <tr>\n",
       "      <th>5</th>\n",
       "      <td>stats/city</td>\n",
       "      <td>50</td>\n",
       "      <td>2019</td>\n",
       "    </tr>\n",
       "    <tr>\n",
       "      <th>6</th>\n",
       "      <td>licenses and permits - other</td>\n",
       "      <td>60</td>\n",
       "      <td>2019</td>\n",
       "    </tr>\n",
       "    <tr>\n",
       "      <th>7</th>\n",
       "      <td>insurance - property</td>\n",
       "      <td>1640</td>\n",
       "      <td>2019</td>\n",
       "    </tr>\n",
       "    <tr>\n",
       "      <th>8</th>\n",
       "      <td>insurance - Board annual bond</td>\n",
       "      <td>188</td>\n",
       "      <td>2019</td>\n",
       "    </tr>\n",
       "    <tr>\n",
       "      <th>9</th>\n",
       "      <td>Landscaping, Monthly</td>\n",
       "      <td>3220</td>\n",
       "      <td>2019</td>\n",
       "    </tr>\n",
       "    <tr>\n",
       "      <th>10</th>\n",
       "      <td>Landscaping, Major</td>\n",
       "      <td>900</td>\n",
       "      <td>2019</td>\n",
       "    </tr>\n",
       "    <tr>\n",
       "      <th>11</th>\n",
       "      <td>In-House Maintenance</td>\n",
       "      <td>500</td>\n",
       "      <td>2019</td>\n",
       "    </tr>\n",
       "    <tr>\n",
       "      <th>12</th>\n",
       "      <td>Contractor Repairs</td>\n",
       "      <td>1920</td>\n",
       "      <td>2019</td>\n",
       "    </tr>\n",
       "  </tbody>\n",
       "</table>\n",
       "</div>"
      ],
      "text/plain": [
       "                    Expenses_Name  Price  Year\n",
       "0                       Bank Fees     45  2019\n",
       "1             mail cloud services    300  2019\n",
       "2     legal and professional fees    200  2019\n",
       "3                 consultant fees    680  2019\n",
       "4             accounting software    374  2019\n",
       "5                      stats/city     50  2019\n",
       "6    licenses and permits - other     60  2019\n",
       "7            insurance - property   1640  2019\n",
       "8   insurance - Board annual bond    188  2019\n",
       "9            Landscaping, Monthly   3220  2019\n",
       "10             Landscaping, Major    900  2019\n",
       "11           In-House Maintenance    500  2019\n",
       "12             Contractor Repairs   1920  2019"
      ]
     },
     "execution_count": 40,
     "metadata": {},
     "output_type": "execute_result"
    }
   ],
   "source": [
    "df1 = pd.DataFrame(list(zip(common_ex.keys(), map(int, common_ex.values()))), columns = [\"Expenses_Name\", \"Price\"])\n",
    "df1[\"Year\"] = 2019\n",
    "df1"
   ]
  },
  {
   "cell_type": "code",
   "execution_count": 50,
   "metadata": {},
   "outputs": [
    {
     "data": {
      "text/html": [
       "<div>\n",
       "<style scoped>\n",
       "    .dataframe tbody tr th:only-of-type {\n",
       "        vertical-align: middle;\n",
       "    }\n",
       "\n",
       "    .dataframe tbody tr th {\n",
       "        vertical-align: top;\n",
       "    }\n",
       "\n",
       "    .dataframe thead th {\n",
       "        text-align: right;\n",
       "    }\n",
       "</style>\n",
       "<table border=\"1\" class=\"dataframe\">\n",
       "  <thead>\n",
       "    <tr style=\"text-align: right;\">\n",
       "      <th></th>\n",
       "      <th>Expenses_Name</th>\n",
       "      <th>Price</th>\n",
       "      <th>Year</th>\n",
       "    </tr>\n",
       "  </thead>\n",
       "  <tbody>\n",
       "    <tr>\n",
       "      <th>0</th>\n",
       "      <td>paint the metal fence</td>\n",
       "      <td>1750</td>\n",
       "      <td>2019</td>\n",
       "    </tr>\n",
       "    <tr>\n",
       "      <th>1</th>\n",
       "      <td>unplanned</td>\n",
       "      <td>2000</td>\n",
       "      <td>2019</td>\n",
       "    </tr>\n",
       "    <tr>\n",
       "      <th>2</th>\n",
       "      <td>update 3 south</td>\n",
       "      <td>1200</td>\n",
       "      <td>2019</td>\n",
       "    </tr>\n",
       "    <tr>\n",
       "      <th>3</th>\n",
       "      <td>wood fence</td>\n",
       "      <td>1000</td>\n",
       "      <td>2019</td>\n",
       "    </tr>\n",
       "  </tbody>\n",
       "</table>\n",
       "</div>"
      ],
      "text/plain": [
       "           Expenses_Name  Price  Year\n",
       "0  paint the metal fence   1750  2019\n",
       "1             unplanned    2000  2019\n",
       "2         update 3 south   1200  2019\n",
       "3             wood fence   1000  2019"
      ]
     },
     "execution_count": 50,
     "metadata": {},
     "output_type": "execute_result"
    }
   ],
   "source": [
    "df2 = pd.DataFrame(list(zip(replacement_re.keys(), map(int, replacement_re.values()))), columns = [\"Expenses_Name\", \"Price\"])\n",
    "df2[\"Year\"] = 2019\n",
    "df2"
   ]
  },
  {
   "cell_type": "code",
   "execution_count": 70,
   "metadata": {},
   "outputs": [
    {
     "data": {
      "text/plain": [
       "\"('Bank Fees', '45'), ('mail cloud services', '300'), ('legal and professional fees', '200'), ('consultant fees', '680'), ('accounting software', '374'), ('stats/city', '50'), ('licenses and permits - other', '60'), ('insurance - property', '1640'), ('insurance - Board annual bond', '188'), ('Landscaping, Monthly', '3220'), ('Landscaping, Major', '900'), ('In-House Maintenance', '500'), ('Contractor Repairs', '1920')\""
      ]
     },
     "execution_count": 70,
     "metadata": {},
     "output_type": "execute_result"
    }
   ],
   "source": [
    "val1 = str(list(common_ex.items()))\n",
    "val1[1:-1]"
   ]
  },
  {
   "cell_type": "code",
   "execution_count": 119,
   "metadata": {},
   "outputs": [
    {
     "ename": "AttributeError",
     "evalue": "'dict' object has no attribute 'year'",
     "output_type": "error",
     "traceback": [
      "\u001b[1;31m---------------------------------------------------------------------------\u001b[0m",
      "\u001b[1;31mAttributeError\u001b[0m                            Traceback (most recent call last)",
      "Cell \u001b[1;32mIn [119], line 1\u001b[0m\n\u001b[1;32m----> 1\u001b[0m data\u001b[39m.\u001b[39;49myear\n",
      "\u001b[1;31mAttributeError\u001b[0m: 'dict' object has no attribute 'year'"
     ]
    }
   ],
   "source": [
    "data"
   ]
  },
  {
   "cell_type": "code",
   "execution_count": 118,
   "metadata": {},
   "outputs": [
    {
     "ename": "ProgrammingError",
     "evalue": "(sqlite3.ProgrammingError) Incorrect number of bindings supplied. The current statement uses 3, and there are 2 supplied.\n[SQL: INSERT INTO common_expenses_year (Expenses_Name, Price, Year) VALUES (?,?,?)]\n[parameters: (('Bank Fees', '45'), ('mail cloud services', '300'), ('legal and professional fees', '200'), ('consultant fees', '680'), ('accounting software', '374'), ('stats/city', '50'), ('licenses and permits - other', '60'), ('insurance - property', '1640')  ... displaying 10 of 13 total bound parameter sets ...  ('In-House Maintenance', '500'), ('Contractor Repairs', '1920'))]\n(Background on this error at: https://sqlalche.me/e/14/f405)",
     "output_type": "error",
     "traceback": [
      "\u001b[1;31m---------------------------------------------------------------------------\u001b[0m",
      "\u001b[1;31mProgrammingError\u001b[0m                          Traceback (most recent call last)",
      "File \u001b[1;32mc:\\Users\\yadav\\AppData\\Local\\Programs\\Python\\Python38\\lib\\site-packages\\sqlalchemy\\engine\\base.py:1880\u001b[0m, in \u001b[0;36mConnection._execute_context\u001b[1;34m(self, dialect, constructor, statement, parameters, execution_options, *args, **kw)\u001b[0m\n\u001b[0;32m   1879\u001b[0m     \u001b[39mif\u001b[39;00m \u001b[39mnot\u001b[39;00m evt_handled:\n\u001b[1;32m-> 1880\u001b[0m         \u001b[39mself\u001b[39;49m\u001b[39m.\u001b[39;49mdialect\u001b[39m.\u001b[39;49mdo_executemany(\n\u001b[0;32m   1881\u001b[0m             cursor, statement, parameters, context\n\u001b[0;32m   1882\u001b[0m         )\n\u001b[0;32m   1883\u001b[0m \u001b[39melif\u001b[39;00m \u001b[39mnot\u001b[39;00m parameters \u001b[39mand\u001b[39;00m context\u001b[39m.\u001b[39mno_parameters:\n",
      "File \u001b[1;32mc:\\Users\\yadav\\AppData\\Local\\Programs\\Python\\Python38\\lib\\site-packages\\sqlalchemy\\engine\\default.py:733\u001b[0m, in \u001b[0;36mDefaultDialect.do_executemany\u001b[1;34m(self, cursor, statement, parameters, context)\u001b[0m\n\u001b[0;32m    732\u001b[0m \u001b[39mdef\u001b[39;00m \u001b[39mdo_executemany\u001b[39m(\u001b[39mself\u001b[39m, cursor, statement, parameters, context\u001b[39m=\u001b[39m\u001b[39mNone\u001b[39;00m):\n\u001b[1;32m--> 733\u001b[0m     cursor\u001b[39m.\u001b[39;49mexecutemany(statement, parameters)\n",
      "\u001b[1;31mProgrammingError\u001b[0m: Incorrect number of bindings supplied. The current statement uses 3, and there are 2 supplied.",
      "\nThe above exception was the direct cause of the following exception:\n",
      "\u001b[1;31mProgrammingError\u001b[0m                          Traceback (most recent call last)",
      "Cell \u001b[1;32mIn [118], line 12\u001b[0m\n\u001b[0;32m     10\u001b[0m \u001b[39m# for key, val in common_ex.items():\u001b[39;00m\n\u001b[0;32m     11\u001b[0m query \u001b[39m=\u001b[39m \u001b[39m\"\u001b[39m\u001b[39mINSERT INTO common_expenses_year (Expenses_Name, Price, Year) VALUES (?,?,?)\u001b[39m\u001b[39m\"\u001b[39m\n\u001b[1;32m---> 12\u001b[0m engine\u001b[39m.\u001b[39;49mexecute(query, \u001b[39mtuple\u001b[39;49m(common_ex\u001b[39m.\u001b[39;49mitems()))    \n\u001b[0;32m     14\u001b[0m \u001b[39m# a = \"8787\"\u001b[39;00m\n\u001b[0;32m     15\u001b[0m \u001b[39m# b = 909\u001b[39;00m\n\u001b[0;32m     16\u001b[0m \u001b[39m# engine.execute(\"INSERT INTO common_expenses_year VALUES (?,?,?)\", (a,b, 202))\u001b[39;00m\n\u001b[0;32m     18\u001b[0m engine\u001b[39m.\u001b[39mexecute(\u001b[39m\"\u001b[39m\u001b[39mselect * from common_expenses_year\u001b[39m\u001b[39m\"\u001b[39m)\u001b[39m.\u001b[39mfetchall()\n",
      "File \u001b[1;32m<string>:2\u001b[0m, in \u001b[0;36mexecute\u001b[1;34m(self, statement, *multiparams, **params)\u001b[0m\n",
      "File \u001b[1;32mc:\\Users\\yadav\\AppData\\Local\\Programs\\Python\\Python38\\lib\\site-packages\\sqlalchemy\\util\\deprecations.py:468\u001b[0m, in \u001b[0;36m_decorate_with_warning.<locals>.warned\u001b[1;34m(fn, *args, **kwargs)\u001b[0m\n\u001b[0;32m    466\u001b[0m \u001b[39mif\u001b[39;00m \u001b[39mnot\u001b[39;00m skip_warning:\n\u001b[0;32m    467\u001b[0m     _warn_with_version(message, version, wtype, stacklevel\u001b[39m=\u001b[39m\u001b[39m3\u001b[39m)\n\u001b[1;32m--> 468\u001b[0m \u001b[39mreturn\u001b[39;00m fn(\u001b[39m*\u001b[39;49margs, \u001b[39m*\u001b[39;49m\u001b[39m*\u001b[39;49mkwargs)\n",
      "File \u001b[1;32mc:\\Users\\yadav\\AppData\\Local\\Programs\\Python\\Python38\\lib\\site-packages\\sqlalchemy\\engine\\base.py:3257\u001b[0m, in \u001b[0;36mEngine.execute\u001b[1;34m(self, statement, *multiparams, **params)\u001b[0m\n\u001b[0;32m   3239\u001b[0m \u001b[39m\"\"\"Executes the given construct and returns a\u001b[39;00m\n\u001b[0;32m   3240\u001b[0m \u001b[39m:class:`_engine.CursorResult`.\u001b[39;00m\n\u001b[0;32m   3241\u001b[0m \n\u001b[1;32m   (...)\u001b[0m\n\u001b[0;32m   3254\u001b[0m \n\u001b[0;32m   3255\u001b[0m \u001b[39m\"\"\"\u001b[39;00m\n\u001b[0;32m   3256\u001b[0m connection \u001b[39m=\u001b[39m \u001b[39mself\u001b[39m\u001b[39m.\u001b[39mconnect(close_with_result\u001b[39m=\u001b[39m\u001b[39mTrue\u001b[39;00m)\n\u001b[1;32m-> 3257\u001b[0m \u001b[39mreturn\u001b[39;00m connection\u001b[39m.\u001b[39;49mexecute(statement, \u001b[39m*\u001b[39;49mmultiparams, \u001b[39m*\u001b[39;49m\u001b[39m*\u001b[39;49mparams)\n",
      "File \u001b[1;32mc:\\Users\\yadav\\AppData\\Local\\Programs\\Python\\Python38\\lib\\site-packages\\sqlalchemy\\engine\\base.py:1365\u001b[0m, in \u001b[0;36mConnection.execute\u001b[1;34m(self, statement, *multiparams, **params)\u001b[0m\n\u001b[0;32m   1356\u001b[0m \u001b[39mif\u001b[39;00m \u001b[39misinstance\u001b[39m(statement, util\u001b[39m.\u001b[39mstring_types):\n\u001b[0;32m   1357\u001b[0m     util\u001b[39m.\u001b[39mwarn_deprecated_20(\n\u001b[0;32m   1358\u001b[0m         \u001b[39m\"\u001b[39m\u001b[39mPassing a string to Connection.execute() is \u001b[39m\u001b[39m\"\u001b[39m\n\u001b[0;32m   1359\u001b[0m         \u001b[39m\"\u001b[39m\u001b[39mdeprecated and will be removed in version 2.0.  Use the \u001b[39m\u001b[39m\"\u001b[39m\n\u001b[1;32m   (...)\u001b[0m\n\u001b[0;32m   1362\u001b[0m         \u001b[39m\"\u001b[39m\u001b[39mdriver-level SQL string.\u001b[39m\u001b[39m\"\u001b[39m\n\u001b[0;32m   1363\u001b[0m     )\n\u001b[1;32m-> 1365\u001b[0m     \u001b[39mreturn\u001b[39;00m \u001b[39mself\u001b[39;49m\u001b[39m.\u001b[39;49m_exec_driver_sql(\n\u001b[0;32m   1366\u001b[0m         statement,\n\u001b[0;32m   1367\u001b[0m         multiparams,\n\u001b[0;32m   1368\u001b[0m         params,\n\u001b[0;32m   1369\u001b[0m         _EMPTY_EXECUTION_OPTS,\n\u001b[0;32m   1370\u001b[0m         future\u001b[39m=\u001b[39;49m\u001b[39mFalse\u001b[39;49;00m,\n\u001b[0;32m   1371\u001b[0m     )\n\u001b[0;32m   1373\u001b[0m \u001b[39mtry\u001b[39;00m:\n\u001b[0;32m   1374\u001b[0m     meth \u001b[39m=\u001b[39m statement\u001b[39m.\u001b[39m_execute_on_connection\n",
      "File \u001b[1;32mc:\\Users\\yadav\\AppData\\Local\\Programs\\Python\\Python38\\lib\\site-packages\\sqlalchemy\\engine\\base.py:1669\u001b[0m, in \u001b[0;36mConnection._exec_driver_sql\u001b[1;34m(self, statement, multiparams, params, execution_options, future)\u001b[0m\n\u001b[0;32m   1659\u001b[0m         (\n\u001b[0;32m   1660\u001b[0m             statement,\n\u001b[0;32m   1661\u001b[0m             distilled_params,\n\u001b[1;32m   (...)\u001b[0m\n\u001b[0;32m   1665\u001b[0m             statement, distilled_parameters, execution_options\n\u001b[0;32m   1666\u001b[0m         )\n\u001b[0;32m   1668\u001b[0m dialect \u001b[39m=\u001b[39m \u001b[39mself\u001b[39m\u001b[39m.\u001b[39mdialect\n\u001b[1;32m-> 1669\u001b[0m ret \u001b[39m=\u001b[39m \u001b[39mself\u001b[39;49m\u001b[39m.\u001b[39;49m_execute_context(\n\u001b[0;32m   1670\u001b[0m     dialect,\n\u001b[0;32m   1671\u001b[0m     dialect\u001b[39m.\u001b[39;49mexecution_ctx_cls\u001b[39m.\u001b[39;49m_init_statement,\n\u001b[0;32m   1672\u001b[0m     statement,\n\u001b[0;32m   1673\u001b[0m     distilled_parameters,\n\u001b[0;32m   1674\u001b[0m     execution_options,\n\u001b[0;32m   1675\u001b[0m     statement,\n\u001b[0;32m   1676\u001b[0m     distilled_parameters,\n\u001b[0;32m   1677\u001b[0m )\n\u001b[0;32m   1679\u001b[0m \u001b[39mif\u001b[39;00m \u001b[39mnot\u001b[39;00m future:\n\u001b[0;32m   1680\u001b[0m     \u001b[39mif\u001b[39;00m \u001b[39mself\u001b[39m\u001b[39m.\u001b[39m_has_events \u001b[39mor\u001b[39;00m \u001b[39mself\u001b[39m\u001b[39m.\u001b[39mengine\u001b[39m.\u001b[39m_has_events:\n",
      "File \u001b[1;32mc:\\Users\\yadav\\AppData\\Local\\Programs\\Python\\Python38\\lib\\site-packages\\sqlalchemy\\engine\\base.py:1943\u001b[0m, in \u001b[0;36mConnection._execute_context\u001b[1;34m(self, dialect, constructor, statement, parameters, execution_options, *args, **kw)\u001b[0m\n\u001b[0;32m   1940\u001b[0m             branched\u001b[39m.\u001b[39mclose()\n\u001b[0;32m   1942\u001b[0m \u001b[39mexcept\u001b[39;00m \u001b[39mBaseException\u001b[39;00m \u001b[39mas\u001b[39;00m e:\n\u001b[1;32m-> 1943\u001b[0m     \u001b[39mself\u001b[39;49m\u001b[39m.\u001b[39;49m_handle_dbapi_exception(\n\u001b[0;32m   1944\u001b[0m         e, statement, parameters, cursor, context\n\u001b[0;32m   1945\u001b[0m     )\n\u001b[0;32m   1947\u001b[0m \u001b[39mreturn\u001b[39;00m result\n",
      "File \u001b[1;32mc:\\Users\\yadav\\AppData\\Local\\Programs\\Python\\Python38\\lib\\site-packages\\sqlalchemy\\engine\\base.py:2124\u001b[0m, in \u001b[0;36mConnection._handle_dbapi_exception\u001b[1;34m(self, e, statement, parameters, cursor, context)\u001b[0m\n\u001b[0;32m   2122\u001b[0m     util\u001b[39m.\u001b[39mraise_(newraise, with_traceback\u001b[39m=\u001b[39mexc_info[\u001b[39m2\u001b[39m], from_\u001b[39m=\u001b[39me)\n\u001b[0;32m   2123\u001b[0m \u001b[39melif\u001b[39;00m should_wrap:\n\u001b[1;32m-> 2124\u001b[0m     util\u001b[39m.\u001b[39;49mraise_(\n\u001b[0;32m   2125\u001b[0m         sqlalchemy_exception, with_traceback\u001b[39m=\u001b[39;49mexc_info[\u001b[39m2\u001b[39;49m], from_\u001b[39m=\u001b[39;49me\n\u001b[0;32m   2126\u001b[0m     )\n\u001b[0;32m   2127\u001b[0m \u001b[39melse\u001b[39;00m:\n\u001b[0;32m   2128\u001b[0m     util\u001b[39m.\u001b[39mraise_(exc_info[\u001b[39m1\u001b[39m], with_traceback\u001b[39m=\u001b[39mexc_info[\u001b[39m2\u001b[39m])\n",
      "File \u001b[1;32mc:\\Users\\yadav\\AppData\\Local\\Programs\\Python\\Python38\\lib\\site-packages\\sqlalchemy\\util\\compat.py:211\u001b[0m, in \u001b[0;36mraise_\u001b[1;34m(***failed resolving arguments***)\u001b[0m\n\u001b[0;32m    208\u001b[0m     exception\u001b[39m.\u001b[39m__cause__ \u001b[39m=\u001b[39m replace_context\n\u001b[0;32m    210\u001b[0m \u001b[39mtry\u001b[39;00m:\n\u001b[1;32m--> 211\u001b[0m     \u001b[39mraise\u001b[39;00m exception\n\u001b[0;32m    212\u001b[0m \u001b[39mfinally\u001b[39;00m:\n\u001b[0;32m    213\u001b[0m     \u001b[39m# credit to\u001b[39;00m\n\u001b[0;32m    214\u001b[0m     \u001b[39m# https://cosmicpercolator.com/2016/01/13/exception-leaks-in-python-2-and-3/\u001b[39;00m\n\u001b[0;32m    215\u001b[0m     \u001b[39m# as the __traceback__ object creates a cycle\u001b[39;00m\n\u001b[0;32m    216\u001b[0m     \u001b[39mdel\u001b[39;00m exception, replace_context, from_, with_traceback\n",
      "File \u001b[1;32mc:\\Users\\yadav\\AppData\\Local\\Programs\\Python\\Python38\\lib\\site-packages\\sqlalchemy\\engine\\base.py:1880\u001b[0m, in \u001b[0;36mConnection._execute_context\u001b[1;34m(self, dialect, constructor, statement, parameters, execution_options, *args, **kw)\u001b[0m\n\u001b[0;32m   1878\u001b[0m                 \u001b[39mbreak\u001b[39;00m\n\u001b[0;32m   1879\u001b[0m     \u001b[39mif\u001b[39;00m \u001b[39mnot\u001b[39;00m evt_handled:\n\u001b[1;32m-> 1880\u001b[0m         \u001b[39mself\u001b[39;49m\u001b[39m.\u001b[39;49mdialect\u001b[39m.\u001b[39;49mdo_executemany(\n\u001b[0;32m   1881\u001b[0m             cursor, statement, parameters, context\n\u001b[0;32m   1882\u001b[0m         )\n\u001b[0;32m   1883\u001b[0m \u001b[39melif\u001b[39;00m \u001b[39mnot\u001b[39;00m parameters \u001b[39mand\u001b[39;00m context\u001b[39m.\u001b[39mno_parameters:\n\u001b[0;32m   1884\u001b[0m     \u001b[39mif\u001b[39;00m \u001b[39mself\u001b[39m\u001b[39m.\u001b[39mdialect\u001b[39m.\u001b[39m_has_events:\n",
      "File \u001b[1;32mc:\\Users\\yadav\\AppData\\Local\\Programs\\Python\\Python38\\lib\\site-packages\\sqlalchemy\\engine\\default.py:733\u001b[0m, in \u001b[0;36mDefaultDialect.do_executemany\u001b[1;34m(self, cursor, statement, parameters, context)\u001b[0m\n\u001b[0;32m    732\u001b[0m \u001b[39mdef\u001b[39;00m \u001b[39mdo_executemany\u001b[39m(\u001b[39mself\u001b[39m, cursor, statement, parameters, context\u001b[39m=\u001b[39m\u001b[39mNone\u001b[39;00m):\n\u001b[1;32m--> 733\u001b[0m     cursor\u001b[39m.\u001b[39;49mexecutemany(statement, parameters)\n",
      "\u001b[1;31mProgrammingError\u001b[0m: (sqlite3.ProgrammingError) Incorrect number of bindings supplied. The current statement uses 3, and there are 2 supplied.\n[SQL: INSERT INTO common_expenses_year (Expenses_Name, Price, Year) VALUES (?,?,?)]\n[parameters: (('Bank Fees', '45'), ('mail cloud services', '300'), ('legal and professional fees', '200'), ('consultant fees', '680'), ('accounting software', '374'), ('stats/city', '50'), ('licenses and permits - other', '60'), ('insurance - property', '1640')  ... displaying 10 of 13 total bound parameter sets ...  ('In-House Maintenance', '500'), ('Contractor Repairs', '1920'))]\n(Background on this error at: https://sqlalche.me/e/14/f405)"
     ]
    }
   ],
   "source": [
    "from sqlalchemy import create_engine\n",
    "engine = create_engine(\"sqlite+pysqlite:///:memory:\")\n",
    "\n",
    "engine.execute(\"Create table common_expenses_year (Expenses_Name varchar(255), Price integer, Year integer)\")\n",
    "\n",
    "# common_expenses_year = pd.DataFrame(columns=[\"Expenses_Name\", \"Price\", \"Year\"])\n",
    "# common_expenses_year.to_sql(\"common_expenses_year\", engine)\n",
    "\n",
    "val1 = str(common_ex.items())\n",
    "# for key, val in common_ex.items():\n",
    "query = \"INSERT INTO common_expenses_year (Expenses_Name, Price, Year) VALUES (?,?,?)\"\n",
    "engine.execute(query, tuple(common_ex.items()))    \n",
    "\n",
    "# a = \"8787\"\n",
    "# b = 909\n",
    "# engine.execute(\"INSERT INTO common_expenses_year VALUES (?,?,?)\", (a,b, 202))\n",
    "\n",
    "engine.execute(\"select * from common_expenses_year\").fetchall()"
   ]
  },
  {
   "cell_type": "code",
   "execution_count": 78,
   "metadata": {},
   "outputs": [
    {
     "name": "stdout",
     "output_type": "stream",
     "text": [
      "Collecting flask-sqlalchemy\n",
      "  Downloading Flask_SQLAlchemy-3.0.2-py3-none-any.whl (24 kB)\n",
      "Requirement already satisfied: Flask>=2.2 in c:\\users\\yadav\\appdata\\local\\programs\\python\\python38\\lib\\site-packages (from flask-sqlalchemy) (2.2.2)\n",
      "Requirement already satisfied: SQLAlchemy>=1.4.18 in c:\\users\\yadav\\appdata\\local\\programs\\python\\python38\\lib\\site-packages (from flask-sqlalchemy) (1.4.46)\n",
      "Requirement already satisfied: Jinja2>=3.0 in c:\\users\\yadav\\appdata\\local\\programs\\python\\python38\\lib\\site-packages (from Flask>=2.2->flask-sqlalchemy) (3.1.2)\n",
      "Requirement already satisfied: Werkzeug>=2.2.2 in c:\\users\\yadav\\appdata\\local\\programs\\python\\python38\\lib\\site-packages (from Flask>=2.2->flask-sqlalchemy) (2.2.2)\n",
      "Requirement already satisfied: click>=8.0 in c:\\users\\yadav\\appdata\\local\\programs\\python\\python38\\lib\\site-packages (from Flask>=2.2->flask-sqlalchemy) (8.1.3)\n",
      "Requirement already satisfied: importlib-metadata>=3.6.0 in c:\\users\\yadav\\appdata\\local\\programs\\python\\python38\\lib\\site-packages (from Flask>=2.2->flask-sqlalchemy) (5.2.0)\n",
      "Requirement already satisfied: itsdangerous>=2.0 in c:\\users\\yadav\\appdata\\local\\programs\\python\\python38\\lib\\site-packages (from Flask>=2.2->flask-sqlalchemy) (2.1.2)\n",
      "Requirement already satisfied: greenlet!=0.4.17 in c:\\users\\yadav\\appdata\\local\\programs\\python\\python38\\lib\\site-packages (from SQLAlchemy>=1.4.18->flask-sqlalchemy) (2.0.1)\n",
      "Requirement already satisfied: colorama in c:\\users\\yadav\\appdata\\local\\programs\\python\\python38\\lib\\site-packages (from click>=8.0->Flask>=2.2->flask-sqlalchemy) (0.4.6)\n",
      "Requirement already satisfied: zipp>=0.5 in c:\\users\\yadav\\appdata\\local\\programs\\python\\python38\\lib\\site-packages (from importlib-metadata>=3.6.0->Flask>=2.2->flask-sqlalchemy) (3.11.0)\n",
      "Requirement already satisfied: MarkupSafe>=2.0 in c:\\users\\yadav\\appdata\\local\\programs\\python\\python38\\lib\\site-packages (from Jinja2>=3.0->Flask>=2.2->flask-sqlalchemy) (2.1.1)\n",
      "Installing collected packages: flask-sqlalchemy\n",
      "Successfully installed flask-sqlalchemy-3.0.2\n",
      "Note: you may need to restart the kernel to use updated packages.\n"
     ]
    }
   ],
   "source": [
    "pip install flask-sqlalchemy"
   ]
  },
  {
   "cell_type": "code",
   "execution_count": 55,
   "metadata": {},
   "outputs": [
    {
     "data": {
      "text/plain": [
       "[(0, 'Bank Fees', 45, 2019),\n",
       " (1, 'mail cloud services', 300, 2019),\n",
       " (2, 'legal and professional fees', 200, 2019),\n",
       " (3, 'consultant fees', 680, 2019),\n",
       " (4, 'accounting software', 374, 2019),\n",
       " (5, 'stats/city', 50, 2019),\n",
       " (6, 'licenses and permits - other', 60, 2019),\n",
       " (7, 'insurance - property', 1640, 2019),\n",
       " (8, 'insurance - Board annual bond', 188, 2019),\n",
       " (9, 'Landscaping, Monthly', 3220, 2019),\n",
       " (10, 'Landscaping, Major', 900, 2019),\n",
       " (11, 'In-House Maintenance', 500, 2019),\n",
       " (12, 'Contractor Repairs', 1920, 2019)]"
      ]
     },
     "execution_count": 55,
     "metadata": {},
     "output_type": "execute_result"
    }
   ],
   "source": [
    "import pandas\n",
    "from sqlalchemy import create_engine\n",
    "  \n",
    "engine = create_engine(\"sqlite+pysqlite:///:memory:\")\n",
    "  \n",
    "df1 = pd.DataFrame(list(zip(common_ex.keys(), map(int, common_ex.values()))), columns = [\"Expenses_Name\", \"Price\"])\n",
    "df1[\"Year\"] = 2019\n",
    "df1.to_sql('Common_Expenses_table', engine)\n",
    "\n",
    "\n",
    "engine.execute(\"Select * from Common_Expenses_table\").fetchall()"
   ]
  },
  {
   "cell_type": "code",
   "execution_count": 52,
   "metadata": {},
   "outputs": [
    {
     "name": "stdout",
     "output_type": "stream",
     "text": [
      "Collecting sqlalchemy\n",
      "  Downloading SQLAlchemy-1.4.46-cp38-cp38-win_amd64.whl (1.6 MB)\n",
      "     ---------------------------------------- 1.6/1.6 MB 852.1 kB/s eta 0:00:00\n",
      "Collecting greenlet!=0.4.17\n",
      "  Downloading greenlet-2.0.1-cp38-cp38-win_amd64.whl (190 kB)\n",
      "     ------------------------------------ 190.7/190.7 kB 888.7 kB/s eta 0:00:00\n",
      "Installing collected packages: greenlet, sqlalchemy\n",
      "Successfully installed greenlet-2.0.1 sqlalchemy-1.4.46\n",
      "Note: you may need to restart the kernel to use updated packages.\n"
     ]
    }
   ],
   "source": [
    "pip install sqlalchemy"
   ]
  },
  {
   "cell_type": "code",
   "execution_count": 83,
   "metadata": {},
   "outputs": [
    {
     "ename": "NameError",
     "evalue": "name '__file__' is not defined",
     "output_type": "error",
     "traceback": [
      "\u001b[1;31m---------------------------------------------------------------------------\u001b[0m",
      "\u001b[1;31mNameError\u001b[0m                                 Traceback (most recent call last)",
      "Cell \u001b[1;32mIn [83], line 2\u001b[0m\n\u001b[0;32m      1\u001b[0m \u001b[39mimport\u001b[39;00m \u001b[39mos\u001b[39;00m\n\u001b[1;32m----> 2\u001b[0m os\u001b[39m.\u001b[39mpath\u001b[39m.\u001b[39mabspath(os\u001b[39m.\u001b[39mpath\u001b[39m.\u001b[39mdirname(\u001b[39m__file__\u001b[39;49m))\n",
      "\u001b[1;31mNameError\u001b[0m: name '__file__' is not defined"
     ]
    }
   ],
   "source": [
    "import os\n",
    "os.path.abspath(os.path.dirname(os.get))\n"
   ]
  },
  {
   "cell_type": "code",
   "execution_count": 86,
   "metadata": {},
   "outputs": [
    {
     "data": {
      "text/plain": [
       "'d:\\\\Office\\\\project\\\\flask'"
      ]
     },
     "execution_count": 86,
     "metadata": {},
     "output_type": "execute_result"
    }
   ],
   "source": []
  },
  {
   "cell_type": "code",
   "execution_count": 88,
   "metadata": {},
   "outputs": [
    {
     "data": {
      "text/plain": [
       "'C:\\\\Users\\\\yadav'"
      ]
     },
     "execution_count": 88,
     "metadata": {},
     "output_type": "execute_result"
    }
   ],
   "source": []
  },
  {
   "cell_type": "code",
   "execution_count": 129,
   "metadata": {},
   "outputs": [
    {
     "name": "stdout",
     "output_type": "stream",
     "text": [
      "True\n",
      "[(67, 8, 32, 443, 54, 2019), (12, 23, 23, 23, 23, 2023), (12, 23, 23, 23, 23, 2023), (12, 23, 23, 23, 23, 2023), (12, 23, 23, 23, 23, 2023), (12, 23, 23, 23, 23, 2023), (12, 23, 23, 23, 23, 2023)]\n"
     ]
    }
   ],
   "source": [
    "import mysql.connector as connection\n",
    "mydb = connection.connect(host=\"localhost\", database = 'reserve_study',user=\"root\", passwd=\"Tushar0420&\",use_pure=True)\n",
    "    # check if the connection is established\n",
    "print(mydb.is_connected())\n",
    "cur = mydb.cursor()\n",
    "cur.execute(\"Insert into common_expenses_major values (%s,%s,%s,%s,%s,%s)\", (12,23,23,23,23,23))\n",
    "mydb.commit()\n",
    "\n",
    "cur = mydb.cursor()\n",
    "a = cur.execute(\"select * from common_expenses_major\")\n",
    "print(cur.fetchall())"
   ]
  },
  {
   "cell_type": "code",
   "execution_count": 6,
   "metadata": {},
   "outputs": [],
   "source": [
    "class Solution:\n",
    "    def arrayPairSum(self, nums):\n",
    "        \n",
    "        l = []\n",
    "        m = 0\n",
    "        n = 1\n",
    "        while True:\n",
    "            if n < (len(nums)):\n",
    "                a = min(nums[m], nums[n])\n",
    "                b = min(nums[-(m+1)], nums[-(n+1)])\n",
    "                l.append(a+b)\n",
    "                n += 1\n",
    "            \n",
    "            elif m <= len(nums)/2 and n >= len(nums):\n",
    "                m += 1\n",
    "                n = m+1\n",
    "            \n",
    "            else:\n",
    "                return max(l)\n"
   ]
  },
  {
   "cell_type": "code",
   "execution_count": 7,
   "metadata": {},
   "outputs": [
    {
     "ename": "KeyboardInterrupt",
     "evalue": "",
     "output_type": "error",
     "traceback": [
      "\u001b[1;31m---------------------------------------------------------------------------\u001b[0m",
      "\u001b[1;31mKeyboardInterrupt\u001b[0m                         Traceback (most recent call last)",
      "Cell \u001b[1;32mIn [7], line 2\u001b[0m\n\u001b[0;32m      1\u001b[0m a \u001b[39m=\u001b[39m Solution()\n\u001b[1;32m----> 2\u001b[0m a\u001b[39m.\u001b[39;49marrayPairSum([\u001b[39m1\u001b[39;49m,\u001b[39m4\u001b[39;49m,\u001b[39m3\u001b[39;49m,\u001b[39m2\u001b[39;49m])\n",
      "Cell \u001b[1;32mIn [6], line 10\u001b[0m, in \u001b[0;36mSolution.arrayPairSum\u001b[1;34m(self, nums)\u001b[0m\n\u001b[0;32m      8\u001b[0m \u001b[39mif\u001b[39;00m n \u001b[39m<\u001b[39m (\u001b[39mlen\u001b[39m(nums)):\n\u001b[0;32m      9\u001b[0m     a \u001b[39m=\u001b[39m \u001b[39mmin\u001b[39m(nums[m], nums[n])\n\u001b[1;32m---> 10\u001b[0m     b \u001b[39m=\u001b[39m \u001b[39mmin\u001b[39m(nums[\u001b[39m-\u001b[39m(m\u001b[39m+\u001b[39m\u001b[39m1\u001b[39m)], nums[\u001b[39m-\u001b[39m(n\u001b[39m+\u001b[39;49m\u001b[39m1\u001b[39;49m)])\n\u001b[0;32m     11\u001b[0m     l\u001b[39m.\u001b[39mappend(a\u001b[39m+\u001b[39mb)\n\u001b[0;32m     13\u001b[0m \u001b[39melif\u001b[39;00m m \u001b[39m<\u001b[39m\u001b[39m=\u001b[39m \u001b[39mlen\u001b[39m(nums)\u001b[39m/\u001b[39m\u001b[39m2\u001b[39m \u001b[39mand\u001b[39;00m n \u001b[39m>\u001b[39m\u001b[39m=\u001b[39m \u001b[39mlen\u001b[39m(nums):\n",
      "\u001b[1;31mKeyboardInterrupt\u001b[0m: "
     ]
    }
   ],
   "source": [
    "a = Solution()\n",
    "a.arrayPairSum([1,4,3,2])"
   ]
  },
  {
   "cell_type": "code",
   "execution_count": 19,
   "metadata": {},
   "outputs": [],
   "source": [
    "import numpy as np\n",
    "\n",
    "class Solution:\n",
    "    def matrixReshape(self, mat: List[List[int]], r: int, c: int) -> List[List[int]]:\n",
    "        \n",
    "        l1 = np.array(mat).\n",
    "        l = []\n",
    "        for i in range(r):\n",
    "            l.append([])\n",
    "            for j in range(c):"
   ]
  },
  {
   "cell_type": "code",
   "execution_count": 20,
   "metadata": {},
   "outputs": [
    {
     "data": {
      "text/plain": [
       "[[1, 2], [3, 4]]"
      ]
     },
     "execution_count": 20,
     "metadata": {},
     "output_type": "execute_result"
    }
   ],
   "source": [
    "a = Solution()\n",
    "a.matrixReshape([[1,2],[3,4]], 2,4)"
   ]
  },
  {
   "cell_type": "code",
   "execution_count": 13,
   "metadata": {},
   "outputs": [
    {
     "data": {
      "text/plain": [
       "array([ 0,  1,  2,  3,  4,  5,  6,  7,  8,  9, 10, 11, 12, 13, 14])"
      ]
     },
     "execution_count": 13,
     "metadata": {},
     "output_type": "execute_result"
    }
   ],
   "source": [
    "import numpy as np\n",
    "l1 = np.array(l)\n",
    "l1 = l1.flat[:]\n",
    "l1"
   ]
  },
  {
   "cell_type": "code",
   "execution_count": null,
   "metadata": {},
   "outputs": [],
   "source": [
    "class Solution:\n",
    "    def findLHS(self, nums):\n",
    "\n",
    "        num1 = set(nums)\n",
    "        "
   ]
  },
  {
   "cell_type": "code",
   "execution_count": 3,
   "metadata": {},
   "outputs": [],
   "source": [
    "nums = [1,3,2,2,5,2,3,7]\n",
    "\n",
    "d = {}\n",
    "for i in nums:\n",
    "    if i not in d.keys():\n",
    "        d[i] = 1\n",
    "    else:\n",
    "        d[i] += 1"
   ]
  },
  {
   "cell_type": "code",
   "execution_count": 9,
   "metadata": {},
   "outputs": [
    {
     "data": {
      "text/plain": [
       "Counter({1: 1, 3: 2, 2: 3, 5: 1, 7: 1})"
      ]
     },
     "execution_count": 9,
     "metadata": {},
     "output_type": "execute_result"
    }
   ],
   "source": [
    "from collections import Counter\n",
    "C = Counter(nums)\n",
    "C"
   ]
  },
  {
   "cell_type": "code",
   "execution_count": 4,
   "metadata": {},
   "outputs": [
    {
     "data": {
      "text/plain": [
       "{1: 1, 3: 2, 2: 3, 5: 1, 7: 1}"
      ]
     },
     "execution_count": 4,
     "metadata": {},
     "output_type": "execute_result"
    }
   ],
   "source": [
    "d"
   ]
  },
  {
   "cell_type": "code",
   "execution_count": 5,
   "metadata": {},
   "outputs": [
    {
     "data": {
      "text/plain": [
       "dict_keys([1, 3, 2, 5, 7])"
      ]
     },
     "execution_count": 5,
     "metadata": {},
     "output_type": "execute_result"
    }
   ],
   "source": [
    "d.keys()"
   ]
  },
  {
   "cell_type": "code",
   "execution_count": 29,
   "metadata": {},
   "outputs": [],
   "source": [
    "from collections import Counter\n",
    "\n",
    "class Solution:\n",
    "    def findLHS(self, nums):\n",
    "        # import pdb; pdb.set_trace()\n",
    "        C = Counter(nums)\n",
    "        l = list(C.keys())\n",
    "        l.sort()\n",
    "        print(l)\n",
    "        for i in range(len(l)):\n",
    "            print(i)\n",
    "            print(\"Abs\", abs(C[i] - C[i+1]))\n",
    "            if abs(l[i] - l[i+1]) == 1:\n",
    "                print(i)\n",
    "                return sum([C[l[i]], C[l[i+1]]])"
   ]
  },
  {
   "cell_type": "code",
   "execution_count": 30,
   "metadata": {},
   "outputs": [
    {
     "name": "stdout",
     "output_type": "stream",
     "text": [
      "[1, 2, 3, 4]\n",
      "0\n",
      "Abs 1\n",
      "0\n",
      "2\n"
     ]
    }
   ],
   "source": [
    "a = Solution()\n",
    "print(a.findLHS([1,2,3,4]))"
   ]
  },
  {
   "cell_type": "code",
   "execution_count": 2,
   "metadata": {},
   "outputs": [
    {
     "data": {
      "text/plain": [
       "Counter({1: 1, 3: 2, 2: 3, 5: 1, 7: 1})"
      ]
     },
     "execution_count": 2,
     "metadata": {},
     "output_type": "execute_result"
    }
   ],
   "source": [
    "from collections import Counter\n",
    "\n",
    "\n",
    "C = Counter(nums)\n",
    "C"
   ]
  },
  {
   "cell_type": "code",
   "execution_count": 7,
   "metadata": {},
   "outputs": [
    {
     "data": {
      "text/plain": [
       "0"
      ]
     },
     "execution_count": 7,
     "metadata": {},
     "output_type": "execute_result"
    }
   ],
   "source": [
    "C[4]"
   ]
  },
  {
   "cell_type": "code",
   "execution_count": 5,
   "metadata": {},
   "outputs": [
    {
     "name": "stdout",
     "output_type": "stream",
     "text": [
      "1\n",
      "3\n",
      "2\n",
      "5\n",
      "7\n"
     ]
    }
   ],
   "source": [
    "for n in C:\n",
    "    print(n)"
   ]
  },
  {
   "cell_type": "code",
   "execution_count": 31,
   "metadata": {},
   "outputs": [
    {
     "data": {
      "text/plain": [
       "1"
      ]
     },
     "execution_count": 31,
     "metadata": {},
     "output_type": "execute_result"
    }
   ],
   "source": [
    "nums = [1,3,2,2,5,2,3,7]\n",
    "nums.index(3)"
   ]
  },
  {
   "cell_type": "code",
   "execution_count": 34,
   "metadata": {},
   "outputs": [],
   "source": [
    "class Solution:\n",
    "    def findRestaurant(self, list1, list2):\n",
    "\n",
    "        d = {}\n",
    "        for i in list1:\n",
    "            if i in list2:\n",
    "                ind1 = list1.index(i)\n",
    "                ind2 = list2.index(i)\n",
    "\n",
    "                d[i] = ind1 + ind2\n",
    "\n",
    "        print(d)\n",
    "        min_val = min(list(d.values()))  \n",
    "        print(min_val)\n",
    "        print(d.get(min_val))\n",
    "\n",
    "        "
   ]
  },
  {
   "cell_type": "code",
   "execution_count": 35,
   "metadata": {},
   "outputs": [
    {
     "name": "stdout",
     "output_type": "stream",
     "text": [
      "{'Shogun': 3}\n",
      "3\n",
      "None\n"
     ]
    }
   ],
   "source": [
    "a = Solution()\n",
    "n = [\"Shogun\",\"Tapioca Express\",\"Burger King\",\"KFC\"]\n",
    "m = [\"Piatti\",\"The Grill at Torrey Pines\",\"Hungry Hunter Steakhouse\",\"Shogun\"]\n",
    "a.findRestaurant(n,m)"
   ]
  },
  {
   "cell_type": "code",
   "execution_count": 36,
   "metadata": {},
   "outputs": [
    {
     "data": {
      "text/plain": [
       "'Shogun'"
      ]
     },
     "execution_count": 36,
     "metadata": {},
     "output_type": "execute_result"
    }
   ],
   "source": [
    "my_dict = {'Shogun': 3}\n",
    "list(my_dict.keys())[list(my_dict.values()).index(3)]"
   ]
  },
  {
   "cell_type": "code",
   "execution_count": 4,
   "metadata": {},
   "outputs": [
    {
     "data": {
      "text/plain": [
       "True"
      ]
     },
     "execution_count": 4,
     "metadata": {},
     "output_type": "execute_result"
    }
   ],
   "source": [
    "a= \"4\"\n",
    "\n",
    "a.isnumeric()"
   ]
  },
  {
   "cell_type": "code",
   "execution_count": null,
   "metadata": {},
   "outputs": [],
   "source": [
    "class Solution:\n",
    "    def maxCount(self, m, n, ops):\n",
    "        return min(i for i,_ in ops+[[m,n]]) * min(j for _,j in ops+[[m,n]])"
   ]
  },
  {
   "cell_type": "code",
   "execution_count": 5,
   "metadata": {},
   "outputs": [
    {
     "ename": "NameError",
     "evalue": "name 'List' is not defined",
     "output_type": "error",
     "traceback": [
      "\u001b[1;31m---------------------------------------------------------------------------\u001b[0m",
      "\u001b[1;31mNameError\u001b[0m                                 Traceback (most recent call last)",
      "Cell \u001b[1;32mIn [5], line 1\u001b[0m\n\u001b[1;32m----> 1\u001b[0m \u001b[39mclass\u001b[39;00m \u001b[39mSolution\u001b[39;00m:\n\u001b[0;32m      2\u001b[0m     \u001b[39mdef\u001b[39;00m \u001b[39mcalPoints\u001b[39m(\u001b[39mself\u001b[39m, operations: List[\u001b[39mstr\u001b[39m]) \u001b[39m-\u001b[39m\u001b[39m>\u001b[39m \u001b[39mint\u001b[39m:\n\u001b[0;32m      3\u001b[0m         l \u001b[39m=\u001b[39m []\n",
      "Cell \u001b[1;32mIn [5], line 2\u001b[0m, in \u001b[0;36mSolution\u001b[1;34m()\u001b[0m\n\u001b[0;32m      1\u001b[0m \u001b[39mclass\u001b[39;00m \u001b[39mSolution\u001b[39;00m:\n\u001b[1;32m----> 2\u001b[0m     \u001b[39mdef\u001b[39;00m \u001b[39mcalPoints\u001b[39m(\u001b[39mself\u001b[39m, operations: List[\u001b[39mstr\u001b[39m]) \u001b[39m-\u001b[39m\u001b[39m>\u001b[39m \u001b[39mint\u001b[39m:\n\u001b[0;32m      3\u001b[0m         l \u001b[39m=\u001b[39m []\n\u001b[0;32m      5\u001b[0m         \u001b[39mfor\u001b[39;00m i \u001b[39min\u001b[39;00m operations:\n",
      "\u001b[1;31mNameError\u001b[0m: name 'List' is not defined"
     ]
    }
   ],
   "source": [
    "class Solution:\n",
    "    def calPoints(self, operations):\n",
    "        l = []\n",
    "\n",
    "        for i in operations:\n",
    "            if i == \"5\":\n",
    "                l.append(5)\n",
    "            elif i == \"2\":\n",
    "                l.append(2)\n",
    "            elif i == \"C\":\n",
    "                l.pop()\n",
    "            elif i == \"D\":\n",
    "                l.append(l[-1]*2)\n",
    "            elif i == \"+\":\n",
    "                l.append(sum(l[-2:]))\n",
    "        return sum(l)"
   ]
  },
  {
   "cell_type": "code",
   "execution_count": 7,
   "metadata": {},
   "outputs": [],
   "source": [
    "l = [\"c\",\"j\",\"f\",]"
   ]
  },
  {
   "cell_type": "code",
   "execution_count": 8,
   "metadata": {},
   "outputs": [
    {
     "data": {
      "text/plain": [
       "'j'"
      ]
     },
     "execution_count": 8,
     "metadata": {},
     "output_type": "execute_result"
    }
   ],
   "source": [
    "max(l)"
   ]
  },
  {
   "cell_type": "code",
   "execution_count": 5,
   "metadata": {},
   "outputs": [
    {
     "data": {
      "text/plain": [
       "3"
      ]
     },
     "execution_count": 5,
     "metadata": {},
     "output_type": "execute_result"
    }
   ],
   "source": [
    "ord(\"d\")-97"
   ]
  },
  {
   "cell_type": "code",
   "execution_count": 6,
   "metadata": {},
   "outputs": [],
   "source": [
    "l = [\"--...-.\",\"--...-.\",\"--...--.\",\"--...--.\"]"
   ]
  },
  {
   "cell_type": "code",
   "execution_count": 7,
   "metadata": {},
   "outputs": [
    {
     "data": {
      "text/plain": [
       "{'--...--.', '--...-.'}"
      ]
     },
     "execution_count": 7,
     "metadata": {},
     "output_type": "execute_result"
    }
   ],
   "source": [
    "set(l)"
   ]
  },
  {
   "cell_type": "code",
   "execution_count": null,
   "metadata": {},
   "outputs": [],
   "source": []
  }
 ],
 "metadata": {
  "kernelspec": {
   "display_name": "Python 3",
   "language": "python",
   "name": "python3"
  },
  "language_info": {
   "codemirror_mode": {
    "name": "ipython",
    "version": 3
   },
   "file_extension": ".py",
   "mimetype": "text/x-python",
   "name": "python",
   "nbconvert_exporter": "python",
   "pygments_lexer": "ipython3",
   "version": "3.8.0 (tags/v3.8.0:fa919fd, Oct 14 2019, 19:37:50) [MSC v.1916 64 bit (AMD64)]"
  },
  "orig_nbformat": 4,
  "vscode": {
   "interpreter": {
    "hash": "1d9afa1a224157019e6da309456ced10c65d6e9a36e17cc5a699a322c0cbe1f2"
   }
  }
 },
 "nbformat": 4,
 "nbformat_minor": 2
}
